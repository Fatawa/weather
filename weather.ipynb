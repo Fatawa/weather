{
 "cells": [
  {
   "cell_type": "code",
   "execution_count": 1,
   "metadata": {},
   "outputs": [],
   "source": [
    "import requests\n",
    "from bs4 import BeautifulSoup\n",
    "import csv\n",
    "import time\n",
    "from datetime import datetime"
   ]
  },
  {
   "cell_type": "code",
   "execution_count": 2,
   "metadata": {},
   "outputs": [],
   "source": [
    "def join(txt):\n",
    "    txt= txt.split(\" \")\n",
    "    txt = \"\".join(txt)\n",
    "    return txt"
   ]
  },
  {
   "cell_type": "code",
   "execution_count": 3,
   "metadata": {},
   "outputs": [
    {
     "name": "stdout",
     "output_type": "stream",
     "text": [
      "scraping 1 at times20/03/2022 10:16:04\n",
      "scraping 2 at times20/03/2022 10:17:05\n",
      "scraping 3 at times20/03/2022 10:18:06\n",
      "scraping 4 at times20/03/2022 10:19:07\n",
      "scraping 5 at times20/03/2022 10:20:08\n",
      "scraping 6 at times20/03/2022 10:21:09\n",
      "scraping 7 at times20/03/2022 10:22:09\n",
      "scraping 8 at times20/03/2022 10:23:10\n",
      "scraping 9 at times20/03/2022 10:24:11\n",
      "scraping 10 at times20/03/2022 10:25:12\n"
     ]
    }
   ],
   "source": [
    "with open(\"weather.csv\",'w',newline=\"\",encoding='utf8') as f:\n",
    "    writer = csv.DictWriter(f,fieldnames=['Temp','Humidity','visibility','pressure','wind', 'date'])\n",
    "    writer.writeheader()\n",
    "    for i in range(10):\n",
    "        response = requests.get(\"https://eg.freemeteo.com/weather/cairo/current-weather/location/?gid=360630&language=english&country=egypt\")\n",
    "        soup = BeautifulSoup(response.text)\n",
    "        weather = soup.find('div',attrs={'class':'weather-now'}).find('div',attrs={'id':'current-weather'})  \n",
    "        temp = weather.find('div',attrs={'class':'temp'}).text\n",
    "        humidity = weather.find(\"div\",attrs={'class':'stats'}).text.split(\"|\\r\\n\")[0].split(\"\\r\\n\")\n",
    "        humidity = \" \".join(humidity)\n",
    "        humidity = join(humidity)\n",
    "        visibility = weather.find('div',attrs={\"class\":'stats'}).text.split(\"|\\r\\n\")[1].split(\"\\r\\n\")\n",
    "        visibility = \" \".join(visibility)\n",
    "        visibility = join(visibility)\n",
    "        air_pressure = weather.find(\"div\",attrs={\"class\":'stats'}).text.split(\"|\\r\\n\")[2].split(\"\\r\\n\")\n",
    "        air_pressure = \" \".join(air_pressure)\n",
    "        air_pressure = join(air_pressure)\n",
    "        wind_speed = weather.find('span',attrs={\"class\":'white'}).text\n",
    "#date = soup.find('div',attrs={'id':'header'}).find('div',attrs={'class':'city-select on-context-change'}).attrs['data-property']\n",
    "#date = \"https://eg.freemeteo.com/weather/cairo/current-weather/\"+date\n",
    "#date = weather.find('div',attrs={'class':'last-renew'}).text\n",
    "        date = datetime.now()\n",
    "        date = date.strftime('%d/%m/%Y %H:%M:%S')\n",
    "        writer.writerow(\n",
    "        {\n",
    "            'Temp': temp,\n",
    "            'Humidity': humidity,\n",
    "            'visibility': visibility,\n",
    "            'pressure': air_pressure,\n",
    "            'wind': wind_speed,\n",
    "            'date': date\n",
    "            \n",
    "        })\n",
    "        print(f\"scraping {i+1} at times{date}\")\n",
    "        time.sleep(60)\n"
   ]
  },
  {
   "cell_type": "code",
   "execution_count": null,
   "metadata": {},
   "outputs": [],
   "source": []
  }
 ],
 "metadata": {
  "interpreter": {
   "hash": "7e4117ac172465e1852e0da2ce23cf0b90a07543eca69d1d687c7272f8189bab"
  },
  "kernelspec": {
   "display_name": "Python 3.9.7 ('base')",
   "language": "python",
   "name": "python3"
  },
  "language_info": {
   "codemirror_mode": {
    "name": "ipython",
    "version": 3
   },
   "file_extension": ".py",
   "mimetype": "text/x-python",
   "name": "python",
   "nbconvert_exporter": "python",
   "pygments_lexer": "ipython3",
   "version": "3.9.7"
  },
  "orig_nbformat": 4
 },
 "nbformat": 4,
 "nbformat_minor": 2
}
